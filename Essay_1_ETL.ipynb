{
  "nbformat": 4,
  "nbformat_minor": 0,
  "metadata": {
    "colab": {
      "provenance": []
    },
    "kernelspec": {
      "name": "python3",
      "display_name": "Python 3"
    },
    "language_info": {
      "name": "python"
    }
  },
  "cells": [
    {
      "cell_type": "markdown",
      "source": [
        "#Import Library"
      ],
      "metadata": {
        "id": "PRx7ZLnUWk_k"
      }
    },
    {
      "cell_type": "code",
      "execution_count": 1,
      "metadata": {
        "id": "CXtERo079MKJ"
      },
      "outputs": [],
      "source": [
        "import pandas as pd\n",
        "import requests\n",
        "from datetime import datetime"
      ]
    },
    {
      "cell_type": "markdown",
      "source": [
        "#Get Data From API"
      ],
      "metadata": {
        "id": "PGeylvRuWoZ8"
      }
    },
    {
      "cell_type": "code",
      "source": [
        "url = \"https://berita-indo-api-next.vercel.app/api/\"\n",
        "\n",
        "links_berita = [\n",
        "    \"cnn-news/teknologi\",\n",
        "    \"antara-news/terkini\",\n",
        "    \"cnbc-news/entrepreneur\",\n",
        "    \"cnbc-news/entrepreneur\",\n",
        "    \"republika-news/sepakbola\",\n",
        "    \"tempo-news/nasional\",\n",
        "    \"okezone-news/lifestyle\",\n",
        "    \"kumparan-news\",\n",
        "    \"tribun-news/jabar/\"\n",
        "]"
      ],
      "metadata": {
        "id": "_KnYuoNzGC2N"
      },
      "execution_count": 6,
      "outputs": []
    },
    {
      "cell_type": "code",
      "source": [
        "def cleanCreator(value) : #untuk menghapus tanda baca pada setiap link creator berita\n",
        "  result = value.replace(\"-\", \" \")\n",
        "  result = result.replace(\"/\", \" \")\n",
        "  return result"
      ],
      "metadata": {
        "id": "sT0NuIhNKSgO"
      },
      "execution_count": 7,
      "outputs": []
    },
    {
      "cell_type": "code",
      "source": [
        "df_news = []\n",
        "for news in links_berita :\n",
        "  response = requests.get(url + news)\n",
        "  results = response.json()\n",
        "  new_dataframe = pd.DataFrame(results['data'])\n",
        "  new_dataframe['creator'] = cleanCreator(news)\n",
        "  df_news.append(new_dataframe)\n",
        "\n",
        "\n",
        "dataframe = pd.concat(df_news)"
      ],
      "metadata": {
        "id": "Fkw6uufa-e9J"
      },
      "execution_count": null,
      "outputs": []
    },
    {
      "cell_type": "code",
      "source": [
        "df_final = dataframe[[\"creator\", \"title\", \"link\", \"contentSnippet\", \"contentSnippet\", \"image\"]]\n",
        "df_final.head()"
      ],
      "metadata": {
        "id": "TuyHo6k7ACbZ"
      },
      "execution_count": null,
      "outputs": []
    },
    {
      "cell_type": "markdown",
      "source": [
        "##Mengubah Tipe Data"
      ],
      "metadata": {
        "id": "-QiHuwYRW9C0"
      }
    },
    {
      "cell_type": "code",
      "source": [
        "df_final.dtypes #mengecek tipe data awal"
      ],
      "metadata": {
        "id": "oiEMPiWAA7VL"
      },
      "execution_count": null,
      "outputs": []
    },
    {
      "cell_type": "markdown",
      "source": [
        "Mengubah tipe data kolom \"isoDate\" menjadi datetime"
      ],
      "metadata": {
        "id": "-AmpKfOlXKom"
      }
    },
    {
      "cell_type": "code",
      "source": [
        "df_final['isoDate'] = df_final.isoDate.apply(lambda x: datetime.strptime(x, \"%Y-%m-%dT%H:%M:%S.%fZ\"))"
      ],
      "metadata": {
        "id": "rpPBkQp7BIsV"
      },
      "execution_count": null,
      "outputs": []
    },
    {
      "cell_type": "code",
      "source": [
        "df_final.dtypes # mengecek tipe data setelah diubah"
      ],
      "metadata": {
        "id": "OV8K32yYDWqT"
      },
      "execution_count": null,
      "outputs": []
    },
    {
      "cell_type": "markdown",
      "source": [
        "Melakukan agregasi data pada dataframe"
      ],
      "metadata": {
        "id": "dSfo3TwdXR6G"
      }
    },
    {
      "cell_type": "code",
      "source": [
        "df_final.groupby(\"creator\").agg(\n",
        "    total=pd.NamedAgg(column=\"creator\", aggfunc=\"count\")\n",
        ")"
      ],
      "metadata": {
        "id": "Y0MtorKhDZz2"
      },
      "execution_count": null,
      "outputs": []
    }
  ]
}